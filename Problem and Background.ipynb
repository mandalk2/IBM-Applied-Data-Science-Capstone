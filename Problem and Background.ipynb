{
 "cells": [
  {
   "cell_type": "markdown",
   "metadata": {},
   "source": [
    "# Capstone Project: Comparing Neighborhoods in New York and Los Angeles"
   ]
  },
  {
   "cell_type": "markdown",
   "metadata": {},
   "source": [
    "### Background and Problem:"
   ]
  },
  {
   "cell_type": "markdown",
   "metadata": {},
   "source": [
    "Imagine you are a realtor who is working with a new company, ABC Inc., that just moved from New York to Los Angeles. The company wants to relocate its workforce from New York to Los Angeles. You and your company have been contracted by ABC Inc. to find homes/apartments in neighborhoods that make each employee feel at home. How can this be accomplished? "
   ]
  },
  {
   "cell_type": "markdown",
   "metadata": {},
   "source": [
    "### Data:"
   ]
  },
  {
   "cell_type": "markdown",
   "metadata": {},
   "source": [
    "The following data will be used:\n",
    "-  Zip codes (neighborhoods) of Los Angeles and New York City and corresponding latitude and longitude data.\n",
    "-  Foursquare data based on the latitudes and longitudes of those neighborhoods."
   ]
  },
  {
   "cell_type": "markdown",
   "metadata": {},
   "source": [
    "The above data will allow us to gather data on the types of neighborhoods in New York and Los Angeles and segment and cluster them into groups based on their similarities. This will give us the ability to recommend certain Los Angeles neighborhoods to the employees based on the New York neighborhoods in which they lived."
   ]
  }
 ],
 "metadata": {
  "kernelspec": {
   "display_name": "Python 3",
   "language": "python",
   "name": "python3"
  },
  "language_info": {
   "codemirror_mode": {
    "name": "ipython",
    "version": 3
   },
   "file_extension": ".py",
   "mimetype": "text/x-python",
   "name": "python",
   "nbconvert_exporter": "python",
   "pygments_lexer": "ipython3",
   "version": "3.6.6"
  }
 },
 "nbformat": 4,
 "nbformat_minor": 2
}
