{
 "cells": [
  {
   "cell_type": "markdown",
   "metadata": {},
   "source": [
    "# Capstone Project: Comparing Neighborhoods in New York and Los Angeles"
   ]
  },
  {
   "cell_type": "markdown",
   "metadata": {},
   "source": [
    "### Introduction:"
   ]
  },
  {
   "cell_type": "markdown",
   "metadata": {},
   "source": [
    "Imagine you are a realtor who is working with a new company, ABC Inc., that just moved from New York to Los Angeles. The company wants to relocate its workforce from New York to Los Angeles. You and your company have been contracted by ABC Inc. to find homes/apartments in neighborhoods that make each employee feel at home. How can this be accomplished? This is a relevant issue for many realtor because the post-buy satsifaction of the homeowners is a key metric in measuring the success of a realtor. Moreover, people are becoming more focused on the available amenities in the area around them rather than the house itself when buying housing. People would be more willing to buy a house that isnt't perfect for them if there are all the necessary and desired amenities nearby."
   ]
  },
  {
   "cell_type": "markdown",
   "metadata": {},
   "source": [
    "### Data:"
   ]
  },
  {
   "cell_type": "markdown",
   "metadata": {},
   "source": [
    "The following data will be used:\n",
    "-  Zip codes (neighborhoods) of Los Angeles and New York City and corresponding latitude and longitude data.\n",
    "-  Foursquare data of venues based on the latitudes and longitudes of those neighborhoods."
   ]
  },
  {
   "cell_type": "markdown",
   "metadata": {},
   "source": [
    "The above data will allow us to gather data on the types of neighborhoods in New York and Los Angeles and segment and cluster them into groups based on their similarities. This will give us the ability to recommend certain Los Angeles neighborhoods to the employees based on the New York neighborhoods in which they lived."
   ]
  },
  {
   "cell_type": "markdown",
   "metadata": {},
   "source": [
    "### Methodology:"
   ]
  },
  {
   "cell_type": "markdown",
   "metadata": {},
   "source": [
    "The main idea of this project is to cluster zipcodes based on the types of venues most prevalent in those zipcodes. I first started by gathering a dataset of zipcodes, cities, counties, and latitude and longitudes of those zipcodes. This dataset came from USPS. This was then separated into data tables for New York City and Los Angeles. The New York and Los Angeles dataframes were then concatenated into one dataframe with the following columns: zip, city, county, latitude, and longitude. Then I loaded up the Foursquare API with my credentials and pulled the venue data for the previously gathered zipcodes. Then I grouped the venues by zipcode and got the frequency of the most common venues in each zipcode. Then I ran the kmeans clustering algorithm with 10 clusters. I chose 10 clusters because that seemed like a sufficient amount of clusters that would allow us to differentiate the zipcodes effectively and build an effective system for the realtor to recommend neighborhoods."
   ]
  },
  {
   "cell_type": "markdown",
   "metadata": {},
   "source": [
    "### Results:"
   ]
  },
  {
   "cell_type": "markdown",
   "metadata": {},
   "source": [
    "The algorithm gave us clear clusters which could be used to effectively compare neighborhoods in New York and Los Angeles. An interesting point to note is that there were significantly more Los Angeles zipcodes than New York zipcodes. As a result, there were a few clusters with only Los Angeles zipcodes. Moving on, the following are the cluster and the zipcodes within those clusters.\n",
    "-  Cluster 0: 0 NYC, 7 LA\n",
    "-  Cluster 1: 225 NYC, 315 LA\n",
    "-  Cluster 2: 0 NYC, 2 LA\n",
    "-  Cluster 3: 6 NYC, 31 LA\n",
    "-  Cluster 4: 81 NYC, 6 LA\n",
    "-  Cluster 5: 24 NYC, 98 LA\n",
    "-  Cluster 6: 0 NYC, 4 LA\n",
    "-  Cluster 7: 0 NYC, 2 LA\n",
    "-  Cluster 8: 0 NYC, 11 LA\n",
    "-  Cluster 9: 0 NYC, 5 LA"
   ]
  },
  {
   "cell_type": "markdown",
   "metadata": {},
   "source": [
    "### Discussion:"
   ]
  },
  {
   "cell_type": "markdown",
   "metadata": {},
   "source": [
    "As we can see, there are clear Los Angeles zipcodes for every New York zipcode. This means that we can clearly recommend a bevy of neighborhoods in Los Angeles to the people who are relocating from New York. For example if someone was coming from a New York zipcode in cluster 3, we can clearly recommend any one of the 31 Los Angeles zip codes to those people.\n",
    "\n",
    "This algorithm has potential for improvement. We could have added more clusters for increased differentiation because, as we can see, cluster 1 is highly overcrowded and it is very hard to be accurate with such a high number of zipcodes in one cluster."
   ]
  },
  {
   "cell_type": "markdown",
   "metadata": {},
   "source": [
    "### Conclusion:"
   ]
  },
  {
   "cell_type": "markdown",
   "metadata": {},
   "source": [
    "Overall, the above algorithm can be efficiently and effectively be used by the realtor to recommend neighborhoods (zipcodes) to customers."
   ]
  }
 ],
 "metadata": {
  "kernelspec": {
   "display_name": "Python 3",
   "language": "python",
   "name": "python3"
  },
  "language_info": {
   "codemirror_mode": {
    "name": "ipython",
    "version": 3
   },
   "file_extension": ".py",
   "mimetype": "text/x-python",
   "name": "python",
   "nbconvert_exporter": "python",
   "pygments_lexer": "ipython3",
   "version": "3.6.6"
  }
 },
 "nbformat": 4,
 "nbformat_minor": 2
}
